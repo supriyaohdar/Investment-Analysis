{
  "nbformat": 4,
  "nbformat_minor": 0,
  "metadata": {
    "colab": {
      "name": "InvestmentAnalysis.ipynb",
      "provenance": [],
      "authorship_tag": "ABX9TyNbDc80w9jxJh6VOy1W0IaE",
      "include_colab_link": true
    },
    "kernelspec": {
      "name": "python3",
      "display_name": "Python 3"
    },
    "language_info": {
      "name": "python"
    }
  },
  "cells": [
    {
      "cell_type": "markdown",
      "metadata": {
        "id": "view-in-github",
        "colab_type": "text"
      },
      "source": [
        "<a href=\"https://colab.research.google.com/github/supriyaohdar/Investment-Analysis/blob/main/InvestmentAnalysis.ipynb\" target=\"_parent\"><img src=\"https://colab.research.google.com/assets/colab-badge.svg\" alt=\"Open In Colab\"/></a>"
      ]
    },
    {
      "cell_type": "markdown",
      "metadata": {
        "id": "vJ6PC3t2nkrG"
      },
      "source": [
        "#MedTourEasy Internship\n",
        "Investment Analysis Project"
      ]
    },
    {
      "cell_type": "markdown",
      "metadata": {
        "id": "yB0YzO_RoaH8"
      },
      "source": [
        "#Project Description\n",
        "When you assess whether to invest in an asset, you want to look not only at how much money youcould make but also at how much risk you are taking. The Sharpe Ratio, developed by Nobel Prizewinner William Sharpe some 50 years ago, does precisely this: it compares the return of aninvestment to that of an alternative and relates the relative return to the risk of the investment,measured by the standard deviation of returns.In this project, you will apply the Sharpe ratio to real financial data using pandas."
      ]
    },
    {
      "cell_type": "code",
      "metadata": {
        "id": "JE51rs1Tpo3e"
      },
      "source": [
        "#Import Files\n",
        "import numpy as np\n",
        "import pandas as pd\n",
        "import matplotlib as plt"
      ],
      "execution_count": null,
      "outputs": []
    },
    {
      "cell_type": "code",
      "metadata": {
        "id": "0an1mb8fpqmk"
      },
      "source": [
        "#Load the data\n",
        "#from google.colab import files\n",
        "#uploaded=files.upload()"
      ],
      "execution_count": null,
      "outputs": []
    },
    {
      "cell_type": "markdown",
      "metadata": {
        "id": "T1f6G75Lovps"
      },
      "source": [
        "#Task 1: Read The Data"
      ]
    },
    {
      "cell_type": "code",
      "metadata": {
        "id": "NCIm_GJyne6R"
      },
      "source": [
        "stock_data=pd.read_csv(\"stock_data.csv\",parse_dates=['Date'],index_col='Date').dropna()\n",
        "benchmark_data=pd.read_csv(\"benchmark_data.csv\",parse_dates=['Date'],index_col='Date').dropna()"
      ],
      "execution_count": null,
      "outputs": []
    },
    {
      "cell_type": "markdown",
      "metadata": {
        "id": "Obp30B1brCli"
      },
      "source": [
        "#Task 2:Take a peek at the data you loaded in the last task."
      ]
    },
    {
      "cell_type": "code",
      "metadata": {
        "colab": {
          "base_uri": "https://localhost:8080/",
          "height": 235
        },
        "id": "tNirPRmFrNi9",
        "outputId": "8f9345d0-f460-4235-ed39-282fbd7d7fde"
      },
      "source": [
        "stock_data.head()\n"
      ],
      "execution_count": null,
      "outputs": [
        {
          "output_type": "execute_result",
          "data": {
            "text/html": [
              "<div>\n",
              "<style scoped>\n",
              "    .dataframe tbody tr th:only-of-type {\n",
              "        vertical-align: middle;\n",
              "    }\n",
              "\n",
              "    .dataframe tbody tr th {\n",
              "        vertical-align: top;\n",
              "    }\n",
              "\n",
              "    .dataframe thead th {\n",
              "        text-align: right;\n",
              "    }\n",
              "</style>\n",
              "<table border=\"1\" class=\"dataframe\">\n",
              "  <thead>\n",
              "    <tr style=\"text-align: right;\">\n",
              "      <th></th>\n",
              "      <th>Amazon</th>\n",
              "      <th>Facebook</th>\n",
              "    </tr>\n",
              "    <tr>\n",
              "      <th>Date</th>\n",
              "      <th></th>\n",
              "      <th></th>\n",
              "    </tr>\n",
              "  </thead>\n",
              "  <tbody>\n",
              "    <tr>\n",
              "      <th>2016-01-04</th>\n",
              "      <td>636.989990</td>\n",
              "      <td>102.220001</td>\n",
              "    </tr>\n",
              "    <tr>\n",
              "      <th>2016-01-05</th>\n",
              "      <td>633.789978</td>\n",
              "      <td>102.730003</td>\n",
              "    </tr>\n",
              "    <tr>\n",
              "      <th>2016-01-06</th>\n",
              "      <td>632.650024</td>\n",
              "      <td>102.970001</td>\n",
              "    </tr>\n",
              "    <tr>\n",
              "      <th>2016-01-07</th>\n",
              "      <td>607.940002</td>\n",
              "      <td>97.919998</td>\n",
              "    </tr>\n",
              "    <tr>\n",
              "      <th>2016-01-08</th>\n",
              "      <td>607.049988</td>\n",
              "      <td>97.330002</td>\n",
              "    </tr>\n",
              "  </tbody>\n",
              "</table>\n",
              "</div>"
            ],
            "text/plain": [
              "                Amazon    Facebook\n",
              "Date                              \n",
              "2016-01-04  636.989990  102.220001\n",
              "2016-01-05  633.789978  102.730003\n",
              "2016-01-06  632.650024  102.970001\n",
              "2016-01-07  607.940002   97.919998\n",
              "2016-01-08  607.049988   97.330002"
            ]
          },
          "metadata": {
            "tags": []
          },
          "execution_count": 43
        }
      ]
    },
    {
      "cell_type": "code",
      "metadata": {
        "colab": {
          "base_uri": "https://localhost:8080/"
        },
        "id": "-tXDypYVraLD",
        "outputId": "b65301e9-369c-443e-bb29-d0b6f647d8ac"
      },
      "source": [
        "stock_data.info()"
      ],
      "execution_count": null,
      "outputs": [
        {
          "output_type": "stream",
          "text": [
            "<class 'pandas.core.frame.DataFrame'>\n",
            "DatetimeIndex: 252 entries, 2016-01-04 to 2016-12-30\n",
            "Data columns (total 2 columns):\n",
            " #   Column    Non-Null Count  Dtype  \n",
            "---  ------    --------------  -----  \n",
            " 0   Amazon    252 non-null    float64\n",
            " 1   Facebook  252 non-null    float64\n",
            "dtypes: float64(2)\n",
            "memory usage: 5.9 KB\n"
          ],
          "name": "stdout"
        }
      ]
    },
    {
      "cell_type": "code",
      "metadata": {
        "colab": {
          "base_uri": "https://localhost:8080/",
          "height": 235
        },
        "id": "-rjwN4csroDi",
        "outputId": "04dfe071-3616-48db-80a6-9e9feb272d60"
      },
      "source": [
        "benchmark_data.head()"
      ],
      "execution_count": null,
      "outputs": [
        {
          "output_type": "execute_result",
          "data": {
            "text/html": [
              "<div>\n",
              "<style scoped>\n",
              "    .dataframe tbody tr th:only-of-type {\n",
              "        vertical-align: middle;\n",
              "    }\n",
              "\n",
              "    .dataframe tbody tr th {\n",
              "        vertical-align: top;\n",
              "    }\n",
              "\n",
              "    .dataframe thead th {\n",
              "        text-align: right;\n",
              "    }\n",
              "</style>\n",
              "<table border=\"1\" class=\"dataframe\">\n",
              "  <thead>\n",
              "    <tr style=\"text-align: right;\">\n",
              "      <th></th>\n",
              "      <th>S&amp;P 500</th>\n",
              "    </tr>\n",
              "    <tr>\n",
              "      <th>Date</th>\n",
              "      <th></th>\n",
              "    </tr>\n",
              "  </thead>\n",
              "  <tbody>\n",
              "    <tr>\n",
              "      <th>2016-01-04</th>\n",
              "      <td>2012.66</td>\n",
              "    </tr>\n",
              "    <tr>\n",
              "      <th>2016-01-05</th>\n",
              "      <td>2016.71</td>\n",
              "    </tr>\n",
              "    <tr>\n",
              "      <th>2016-01-06</th>\n",
              "      <td>1990.26</td>\n",
              "    </tr>\n",
              "    <tr>\n",
              "      <th>2016-01-07</th>\n",
              "      <td>1943.09</td>\n",
              "    </tr>\n",
              "    <tr>\n",
              "      <th>2016-01-08</th>\n",
              "      <td>1922.03</td>\n",
              "    </tr>\n",
              "  </tbody>\n",
              "</table>\n",
              "</div>"
            ],
            "text/plain": [
              "            S&P 500\n",
              "Date               \n",
              "2016-01-04  2012.66\n",
              "2016-01-05  2016.71\n",
              "2016-01-06  1990.26\n",
              "2016-01-07  1943.09\n",
              "2016-01-08  1922.03"
            ]
          },
          "metadata": {
            "tags": []
          },
          "execution_count": 45
        }
      ]
    },
    {
      "cell_type": "code",
      "metadata": {
        "colab": {
          "base_uri": "https://localhost:8080/"
        },
        "id": "-Qei1VMRra2q",
        "outputId": "8ccfe42c-b3eb-4562-8079-79fbc04b8bff"
      },
      "source": [
        "benchmark_data.info()"
      ],
      "execution_count": null,
      "outputs": [
        {
          "output_type": "stream",
          "text": [
            "<class 'pandas.core.frame.DataFrame'>\n",
            "DatetimeIndex: 252 entries, 2016-01-04 to 2016-12-30\n",
            "Data columns (total 1 columns):\n",
            " #   Column   Non-Null Count  Dtype  \n",
            "---  ------   --------------  -----  \n",
            " 0   S&P 500  252 non-null    float64\n",
            "dtypes: float64(1)\n",
            "memory usage: 3.9 KB\n"
          ],
          "name": "stdout"
        }
      ]
    },
    {
      "cell_type": "markdown",
      "metadata": {
        "id": "qHHq5u9Or_NN"
      },
      "source": [
        "#Task 3:Plot and summarize the stock_data"
      ]
    },
    {
      "cell_type": "code",
      "metadata": {
        "colab": {
          "base_uri": "https://localhost:8080/",
          "height": 357
        },
        "id": "Kzk-R8_hsCac",
        "outputId": "be87f7bb-4378-4e04-ad5f-32b6542f7605"
      },
      "source": [
        "stock_data.plot(subplots=True,title='Stock Data')\n"
      ],
      "execution_count": null,
      "outputs": [
        {
          "output_type": "execute_result",
          "data": {
            "text/plain": [
              "array([<matplotlib.axes._subplots.AxesSubplot object at 0x7fc2930eaad0>,\n",
              "       <matplotlib.axes._subplots.AxesSubplot object at 0x7fc29308fb90>],\n",
              "      dtype=object)"
            ]
          },
          "metadata": {
            "tags": []
          },
          "execution_count": 47
        },
        {
          "output_type": "display_data",
          "data": {
            "image/png": "[encoded data removed]",
            "text/plain": [
              "<Figure size 432x288 with 2 Axes>"
            ]
          },
          "metadata": {
            "tags": [],
            "needs_background": "light"
          }
        }
      ]
    },
    {
      "cell_type": "code",
      "metadata": {
        "colab": {
          "base_uri": "https://localhost:8080/",
          "height": 297
        },
        "id": "l5AXHbGTtFEt",
        "outputId": "46a436b1-5f97-4da3-82d1-340d4c23a514"
      },
      "source": [
        "stock_data.describe()"
      ],
      "execution_count": null,
      "outputs": [
        {
          "output_type": "execute_result",
          "data": {
            "text/html": [
              "<div>\n",
              "<style scoped>\n",
              "    .dataframe tbody tr th:only-of-type {\n",
              "        vertical-align: middle;\n",
              "    }\n",
              "\n",
              "    .dataframe tbody tr th {\n",
              "        vertical-align: top;\n",
              "    }\n",
              "\n",
              "    .dataframe thead th {\n",
              "        text-align: right;\n",
              "    }\n",
              "</style>\n",
              "<table border=\"1\" class=\"dataframe\">\n",
              "  <thead>\n",
              "    <tr style=\"text-align: right;\">\n",
              "      <th></th>\n",
              "      <th>Amazon</th>\n",
              "      <th>Facebook</th>\n",
              "    </tr>\n",
              "  </thead>\n",
              "  <tbody>\n",
              "    <tr>\n",
              "      <th>count</th>\n",
              "      <td>252.000000</td>\n",
              "      <td>252.000000</td>\n",
              "    </tr>\n",
              "    <tr>\n",
              "      <th>mean</th>\n",
              "      <td>699.523135</td>\n",
              "      <td>117.035873</td>\n",
              "    </tr>\n",
              "    <tr>\n",
              "      <th>std</th>\n",
              "      <td>92.362312</td>\n",
              "      <td>8.899858</td>\n",
              "    </tr>\n",
              "    <tr>\n",
              "      <th>min</th>\n",
              "      <td>482.070007</td>\n",
              "      <td>94.160004</td>\n",
              "    </tr>\n",
              "    <tr>\n",
              "      <th>25%</th>\n",
              "      <td>606.929993</td>\n",
              "      <td>112.202499</td>\n",
              "    </tr>\n",
              "    <tr>\n",
              "      <th>50%</th>\n",
              "      <td>727.875000</td>\n",
              "      <td>117.765000</td>\n",
              "    </tr>\n",
              "    <tr>\n",
              "      <th>75%</th>\n",
              "      <td>767.882492</td>\n",
              "      <td>123.902503</td>\n",
              "    </tr>\n",
              "    <tr>\n",
              "      <th>max</th>\n",
              "      <td>844.359985</td>\n",
              "      <td>133.279999</td>\n",
              "    </tr>\n",
              "  </tbody>\n",
              "</table>\n",
              "</div>"
            ],
            "text/plain": [
              "           Amazon    Facebook\n",
              "count  252.000000  252.000000\n",
              "mean   699.523135  117.035873\n",
              "std     92.362312    8.899858\n",
              "min    482.070007   94.160004\n",
              "25%    606.929993  112.202499\n",
              "50%    727.875000  117.765000\n",
              "75%    767.882492  123.902503\n",
              "max    844.359985  133.279999"
            ]
          },
          "metadata": {
            "tags": []
          },
          "execution_count": 48
        }
      ]
    },
    {
      "cell_type": "markdown",
      "metadata": {
        "id": "qb5J0d-4tMOj"
      },
      "source": [
        "#Task 4: Plot and summarize the benchmark_data\n"
      ]
    },
    {
      "cell_type": "code",
      "metadata": {
        "colab": {
          "base_uri": "https://localhost:8080/",
          "height": 310
        },
        "id": "SQeiWGOWtXzx",
        "outputId": "ee81541c-f1cd-4863-e758-a91daaffd646"
      },
      "source": [
        "benchmark_data.plot(title='S&P 500')"
      ],
      "execution_count": null,
      "outputs": [
        {
          "output_type": "execute_result",
          "data": {
            "text/plain": [
              "<matplotlib.axes._subplots.AxesSubplot at 0x7fc292fead10>"
            ]
          },
          "metadata": {
            "tags": []
          },
          "execution_count": 49
        },
        {
          "output_type": "display_data",
          "data": {
            "image/png": "[encoded data removed]",
            "text/plain": [
              "<Figure size 432x288 with 1 Axes>"
            ]
          },
          "metadata": {
            "tags": [],
            "needs_background": "light"
          }
        }
      ]
    },
    {
      "cell_type": "code",
      "metadata": {
        "colab": {
          "base_uri": "https://localhost:8080/",
          "height": 297
        },
        "id": "X0q0x_OWtjnB",
        "outputId": "031ed5f5-5f90-4b27-9f45-684f10974383"
      },
      "source": [
        "benchmark_data.describe()"
      ],
      "execution_count": null,
      "outputs": [
        {
          "output_type": "execute_result",
          "data": {
            "text/html": [
              "<div>\n",
              "<style scoped>\n",
              "    .dataframe tbody tr th:only-of-type {\n",
              "        vertical-align: middle;\n",
              "    }\n",
              "\n",
              "    .dataframe tbody tr th {\n",
              "        vertical-align: top;\n",
              "    }\n",
              "\n",
              "    .dataframe thead th {\n",
              "        text-align: right;\n",
              "    }\n",
              "</style>\n",
              "<table border=\"1\" class=\"dataframe\">\n",
              "  <thead>\n",
              "    <tr style=\"text-align: right;\">\n",
              "      <th></th>\n",
              "      <th>S&amp;P 500</th>\n",
              "    </tr>\n",
              "  </thead>\n",
              "  <tbody>\n",
              "    <tr>\n",
              "      <th>count</th>\n",
              "      <td>252.000000</td>\n",
              "    </tr>\n",
              "    <tr>\n",
              "      <th>mean</th>\n",
              "      <td>2094.651310</td>\n",
              "    </tr>\n",
              "    <tr>\n",
              "      <th>std</th>\n",
              "      <td>101.427615</td>\n",
              "    </tr>\n",
              "    <tr>\n",
              "      <th>min</th>\n",
              "      <td>1829.080000</td>\n",
              "    </tr>\n",
              "    <tr>\n",
              "      <th>25%</th>\n",
              "      <td>2047.060000</td>\n",
              "    </tr>\n",
              "    <tr>\n",
              "      <th>50%</th>\n",
              "      <td>2104.105000</td>\n",
              "    </tr>\n",
              "    <tr>\n",
              "      <th>75%</th>\n",
              "      <td>2169.075000</td>\n",
              "    </tr>\n",
              "    <tr>\n",
              "      <th>max</th>\n",
              "      <td>2271.720000</td>\n",
              "    </tr>\n",
              "  </tbody>\n",
              "</table>\n",
              "</div>"
            ],
            "text/plain": [
              "           S&P 500\n",
              "count   252.000000\n",
              "mean   2094.651310\n",
              "std     101.427615\n",
              "min    1829.080000\n",
              "25%    2047.060000\n",
              "50%    2104.105000\n",
              "75%    2169.075000\n",
              "max    2271.720000"
            ]
          },
          "metadata": {
            "tags": []
          },
          "execution_count": 50
        }
      ]
    },
    {
      "cell_type": "markdown",
      "metadata": {
        "id": "d1A3H_fpuH6a"
      },
      "source": [
        "#Task 5: Calculate, plot and summarize the stock_data returns"
      ]
    },
    {
      "cell_type": "code",
      "metadata": {
        "id": "3UL4nKkquEhF"
      },
      "source": [
        "stock_returns=stock_data.pct_change()"
      ],
      "execution_count": null,
      "outputs": []
    },
    {
      "cell_type": "code",
      "metadata": {
        "colab": {
          "base_uri": "https://localhost:8080/",
          "height": 294
        },
        "id": "v6FncNyfuVsA",
        "outputId": "4a86aa4e-898e-4d05-b1cf-6d8057a6bf2c"
      },
      "source": [
        "stock_returns.plot()"
      ],
      "execution_count": null,
      "outputs": [
        {
          "output_type": "execute_result",
          "data": {
            "text/plain": [
              "<matplotlib.axes._subplots.AxesSubplot at 0x7fc292f0e310>"
            ]
          },
          "metadata": {
            "tags": []
          },
          "execution_count": 52
        },
        {
          "output_type": "display_data",
          "data": {
            "image/png": "[encoded data removed]",
            "text/plain": [
              "<Figure size 432x288 with 1 Axes>"
            ]
          },
          "metadata": {
            "tags": [],
            "needs_background": "light"
          }
        }
      ]
    },
    {
      "cell_type": "code",
      "metadata": {
        "colab": {
          "base_uri": "https://localhost:8080/",
          "height": 297
        },
        "id": "oK6jKGmTvFwP",
        "outputId": "210a76cd-0cd9-4a04-82f1-3ea6edcab90c"
      },
      "source": [
        "stock_returns.describe()"
      ],
      "execution_count": null,
      "outputs": [
        {
          "output_type": "execute_result",
          "data": {
            "text/html": [
              "<div>\n",
              "<style scoped>\n",
              "    .dataframe tbody tr th:only-of-type {\n",
              "        vertical-align: middle;\n",
              "    }\n",
              "\n",
              "    .dataframe tbody tr th {\n",
              "        vertical-align: top;\n",
              "    }\n",
              "\n",
              "    .dataframe thead th {\n",
              "        text-align: right;\n",
              "    }\n",
              "</style>\n",
              "<table border=\"1\" class=\"dataframe\">\n",
              "  <thead>\n",
              "    <tr style=\"text-align: right;\">\n",
              "      <th></th>\n",
              "      <th>Amazon</th>\n",
              "      <th>Facebook</th>\n",
              "    </tr>\n",
              "  </thead>\n",
              "  <tbody>\n",
              "    <tr>\n",
              "      <th>count</th>\n",
              "      <td>251.000000</td>\n",
              "      <td>251.000000</td>\n",
              "    </tr>\n",
              "    <tr>\n",
              "      <th>mean</th>\n",
              "      <td>0.000818</td>\n",
              "      <td>0.000626</td>\n",
              "    </tr>\n",
              "    <tr>\n",
              "      <th>std</th>\n",
              "      <td>0.018383</td>\n",
              "      <td>0.017840</td>\n",
              "    </tr>\n",
              "    <tr>\n",
              "      <th>min</th>\n",
              "      <td>-0.076100</td>\n",
              "      <td>-0.058105</td>\n",
              "    </tr>\n",
              "    <tr>\n",
              "      <th>25%</th>\n",
              "      <td>-0.007211</td>\n",
              "      <td>-0.007220</td>\n",
              "    </tr>\n",
              "    <tr>\n",
              "      <th>50%</th>\n",
              "      <td>0.000857</td>\n",
              "      <td>0.000879</td>\n",
              "    </tr>\n",
              "    <tr>\n",
              "      <th>75%</th>\n",
              "      <td>0.009224</td>\n",
              "      <td>0.008108</td>\n",
              "    </tr>\n",
              "    <tr>\n",
              "      <th>max</th>\n",
              "      <td>0.095664</td>\n",
              "      <td>0.155214</td>\n",
              "    </tr>\n",
              "  </tbody>\n",
              "</table>\n",
              "</div>"
            ],
            "text/plain": [
              "           Amazon    Facebook\n",
              "count  251.000000  251.000000\n",
              "mean     0.000818    0.000626\n",
              "std      0.018383    0.017840\n",
              "min     -0.076100   -0.058105\n",
              "25%     -0.007211   -0.007220\n",
              "50%      0.000857    0.000879\n",
              "75%      0.009224    0.008108\n",
              "max      0.095664    0.155214"
            ]
          },
          "metadata": {
            "tags": []
          },
          "execution_count": 53
        }
      ]
    },
    {
      "cell_type": "markdown",
      "metadata": {
        "id": "fc6kmtHQvQlk"
      },
      "source": [
        "#Task 6:Calculate, summarize, and plot daily returns for the benchmark_data"
      ]
    },
    {
      "cell_type": "code",
      "metadata": {
        "id": "DkUdtx6GvTCU"
      },
      "source": [
        "sp_returns=pd.Series(benchmark_data['S&P 500']).pct_change()"
      ],
      "execution_count": null,
      "outputs": []
    },
    {
      "cell_type": "code",
      "metadata": {
        "colab": {
          "base_uri": "https://localhost:8080/",
          "height": 294
        },
        "id": "jdy6a2Xrv96g",
        "outputId": "bb3944d2-d0bd-4fc6-fdfb-4f05398258a7"
      },
      "source": [
        "sp_returns.plot()"
      ],
      "execution_count": null,
      "outputs": [
        {
          "output_type": "execute_result",
          "data": {
            "text/plain": [
              "<matplotlib.axes._subplots.AxesSubplot at 0x7fc292e728d0>"
            ]
          },
          "metadata": {
            "tags": []
          },
          "execution_count": 55
        },
        {
          "output_type": "display_data",
          "data": {
            "image/png": "[encoded data removed]",
            "text/plain": [
              "<Figure size 432x288 with 1 Axes>"
            ]
          },
          "metadata": {
            "tags": [],
            "needs_background": "light"
          }
        }
      ]
    },
    {
      "cell_type": "code",
      "metadata": {
        "colab": {
          "base_uri": "https://localhost:8080/"
        },
        "id": "uCcYOJ3FwCkA",
        "outputId": "a9dd477f-aefa-42a5-ee30-70d4f4234c48"
      },
      "source": [
        "sp_returns.describe()"
      ],
      "execution_count": null,
      "outputs": [
        {
          "output_type": "execute_result",
          "data": {
            "text/plain": [
              "count    251.000000\n",
              "mean       0.000458\n",
              "std        0.008205\n",
              "min       -0.035920\n",
              "25%       -0.002949\n",
              "50%        0.000205\n",
              "75%        0.004497\n",
              "max        0.024760\n",
              "Name: S&P 500, dtype: float64"
            ]
          },
          "metadata": {
            "tags": []
          },
          "execution_count": 56
        }
      ]
    },
    {
      "cell_type": "markdown",
      "metadata": {
        "id": "ZHGT6UWfweeJ"
      },
      "source": [
        "#Task 7:Calculate, plot and describe the difference between stock_returns and sp_returns"
      ]
    },
    {
      "cell_type": "code",
      "metadata": {
        "id": "GkdFfRhhwgp6"
      },
      "source": [
        "excess_returns=stock_returns.sub(sp_returns,axis=0)"
      ],
      "execution_count": null,
      "outputs": []
    },
    {
      "cell_type": "code",
      "metadata": {
        "colab": {
          "base_uri": "https://localhost:8080/",
          "height": 294
        },
        "id": "BZnDLHEdxfmy",
        "outputId": "ba7a8abd-1009-499f-9849-dc0850ddaeb0"
      },
      "source": [
        "excess_returns.plot()"
      ],
      "execution_count": null,
      "outputs": [
        {
          "output_type": "execute_result",
          "data": {
            "text/plain": [
              "<matplotlib.axes._subplots.AxesSubplot at 0x7fc292e0c9d0>"
            ]
          },
          "metadata": {
            "tags": []
          },
          "execution_count": 58
        },
        {
          "output_type": "display_data",
          "data": {
            "image/png": "[encoded data removed]",
            "text/plain": [
              "<Figure size 432x288 with 1 Axes>"
            ]
          },
          "metadata": {
            "tags": [],
            "needs_background": "light"
          }
        }
      ]
    },
    {
      "cell_type": "code",
      "metadata": {
        "colab": {
          "base_uri": "https://localhost:8080/",
          "height": 297
        },
        "id": "GNFT0ZlPxlfw",
        "outputId": "a1353f7a-4bf5-43cf-b6ef-3b4d10aa2927"
      },
      "source": [
        "excess_returns.describe()"
      ],
      "execution_count": null,
      "outputs": [
        {
          "output_type": "execute_result",
          "data": {
            "text/html": [
              "<div>\n",
              "<style scoped>\n",
              "    .dataframe tbody tr th:only-of-type {\n",
              "        vertical-align: middle;\n",
              "    }\n",
              "\n",
              "    .dataframe tbody tr th {\n",
              "        vertical-align: top;\n",
              "    }\n",
              "\n",
              "    .dataframe thead th {\n",
              "        text-align: right;\n",
              "    }\n",
              "</style>\n",
              "<table border=\"1\" class=\"dataframe\">\n",
              "  <thead>\n",
              "    <tr style=\"text-align: right;\">\n",
              "      <th></th>\n",
              "      <th>Amazon</th>\n",
              "      <th>Facebook</th>\n",
              "    </tr>\n",
              "  </thead>\n",
              "  <tbody>\n",
              "    <tr>\n",
              "      <th>count</th>\n",
              "      <td>251.000000</td>\n",
              "      <td>251.000000</td>\n",
              "    </tr>\n",
              "    <tr>\n",
              "      <th>mean</th>\n",
              "      <td>0.000360</td>\n",
              "      <td>0.000168</td>\n",
              "    </tr>\n",
              "    <tr>\n",
              "      <th>std</th>\n",
              "      <td>0.016126</td>\n",
              "      <td>0.015439</td>\n",
              "    </tr>\n",
              "    <tr>\n",
              "      <th>min</th>\n",
              "      <td>-0.100860</td>\n",
              "      <td>-0.051958</td>\n",
              "    </tr>\n",
              "    <tr>\n",
              "      <th>25%</th>\n",
              "      <td>-0.006229</td>\n",
              "      <td>-0.005663</td>\n",
              "    </tr>\n",
              "    <tr>\n",
              "      <th>50%</th>\n",
              "      <td>0.000698</td>\n",
              "      <td>-0.000454</td>\n",
              "    </tr>\n",
              "    <tr>\n",
              "      <th>75%</th>\n",
              "      <td>0.007351</td>\n",
              "      <td>0.005814</td>\n",
              "    </tr>\n",
              "    <tr>\n",
              "      <th>max</th>\n",
              "      <td>0.100728</td>\n",
              "      <td>0.149686</td>\n",
              "    </tr>\n",
              "  </tbody>\n",
              "</table>\n",
              "</div>"
            ],
            "text/plain": [
              "           Amazon    Facebook\n",
              "count  251.000000  251.000000\n",
              "mean     0.000360    0.000168\n",
              "std      0.016126    0.015439\n",
              "min     -0.100860   -0.051958\n",
              "25%     -0.006229   -0.005663\n",
              "50%      0.000698   -0.000454\n",
              "75%      0.007351    0.005814\n",
              "max      0.100728    0.149686"
            ]
          },
          "metadata": {
            "tags": []
          },
          "execution_count": 59
        }
      ]
    },
    {
      "cell_type": "markdown",
      "metadata": {
        "id": "yV_bF-k8x5AQ"
      },
      "source": [
        "#Task 8:Calculate and plot the mean of excess_returns"
      ]
    },
    {
      "cell_type": "code",
      "metadata": {
        "id": "JTYhONFZx7ig"
      },
      "source": [
        " avg_excess_return=excess_returns.mean()"
      ],
      "execution_count": null,
      "outputs": []
    },
    {
      "cell_type": "code",
      "metadata": {
        "colab": {
          "base_uri": "https://localhost:8080/",
          "height": 335
        },
        "id": "vY1uZQuHySMB",
        "outputId": "23f4eb40-89e3-4dbb-88c5-31b6002c3ea4"
      },
      "source": [
        "avg_excess_return.plot.bar(title='Mean of the Return Difference')"
      ],
      "execution_count": null,
      "outputs": [
        {
          "output_type": "execute_result",
          "data": {
            "text/plain": [
              "<matplotlib.axes._subplots.AxesSubplot at 0x7fc292ca3f90>"
            ]
          },
          "metadata": {
            "tags": []
          },
          "execution_count": 65
        },
        {
          "output_type": "display_data",
          "data": {
            "image/png": "[encoded data removed]",
            "text/plain": [
              "<Figure size 432x288 with 1 Axes>"
            ]
          },
          "metadata": {
            "tags": [],
            "needs_background": "light"
          }
        }
      ]
    },
    {
      "cell_type": "markdown",
      "metadata": {
        "id": "twzp0wT1yqQS"
      },
      "source": [
        "#Task 9:Calculate and visualize the standard deviation of excess_returns"
      ]
    },
    {
      "cell_type": "code",
      "metadata": {
        "id": "03DMo3iwyn7f"
      },
      "source": [
        " sd_excess_return=excess_returns.std()"
      ],
      "execution_count": null,
      "outputs": []
    },
    {
      "cell_type": "code",
      "metadata": {
        "colab": {
          "base_uri": "https://localhost:8080/",
          "height": 335
        },
        "id": "y-o8_E3Yy4PP",
        "outputId": "266c2f89-1698-40ad-f5ee-66e7edd8e1c2"
      },
      "source": [
        "sd_excess_return.plot.bar(title='Standard Deviation of the Return Difference')"
      ],
      "execution_count": null,
      "outputs": [
        {
          "output_type": "execute_result",
          "data": {
            "text/plain": [
              "<matplotlib.axes._subplots.AxesSubplot at 0x7fc293073cd0>"
            ]
          },
          "metadata": {
            "tags": []
          },
          "execution_count": 67
        },
        {
          "output_type": "display_data",
          "data": {
            "image/png": "[encoded data removed]",
            "text/plain": [
              "<Figure size 432x288 with 1 Axes>"
            ]
          },
          "metadata": {
            "tags": [],
            "needs_background": "light"
          }
        }
      ]
    },
    {
      "cell_type": "markdown",
      "metadata": {
        "id": "VfobTetszSUR"
      },
      "source": [
        "#Task 10: calculate the Sharpe ratio, then annualize"
      ]
    },
    {
      "cell_type": "code",
      "metadata": {
        "id": "fPUq8zG7zc9D"
      },
      "source": [
        "daily_sharpe_ratio=avg_excess_return.div(sd_excess_return)"
      ],
      "execution_count": null,
      "outputs": []
    },
    {
      "cell_type": "code",
      "metadata": {
        "id": "doW8MBxIzxXl"
      },
      "source": [
        "annual_factor=np.sqrt(252)"
      ],
      "execution_count": null,
      "outputs": []
    },
    {
      "cell_type": "code",
      "metadata": {
        "id": "-79cReNO0Aq4"
      },
      "source": [
        "annual_sharpe_ratio=daily_sharpe_ratio.mul(annual_factor)"
      ],
      "execution_count": null,
      "outputs": []
    },
    {
      "cell_type": "code",
      "metadata": {
        "colab": {
          "base_uri": "https://localhost:8080/",
          "height": 319
        },
        "id": "Vf7mGB9j0N88",
        "outputId": "1d6409f6-6936-4e70-d244-3a8bd0f9a5c7"
      },
      "source": [
        "annual_sharpe_ratio.plot.bar('Annualized Sharpe Ratio: Stocks vs S&P500')"
      ],
      "execution_count": null,
      "outputs": [
        {
          "output_type": "execute_result",
          "data": {
            "text/plain": [
              "<matplotlib.axes._subplots.AxesSubplot at 0x7fc292f8e750>"
            ]
          },
          "metadata": {
            "tags": []
          },
          "execution_count": 73
        },
        {
          "output_type": "display_data",
          "data": {
            "image/png": "[encoded data removed]",
            "text/plain": [
              "<Figure size 432x288 with 1 Axes>"
            ]
          },
          "metadata": {
            "tags": [],
            "needs_background": "light"
          }
        }
      ]
    },
    {
      "cell_type": "markdown",
      "metadata": {
        "id": "tX8QzjCk0tDQ"
      },
      "source": [
        "#Task 11:Select the stock you would have picked in 2016 based on the Sharpe Ratio"
      ]
    },
    {
      "cell_type": "markdown",
      "metadata": {
        "id": "m-1hFcDX1g99"
      },
      "source": [
        "Amazon Sharpe ratio is twice in comparision to Facebook in 2016. So, i would select Amazon."
      ]
    },
    {
      "cell_type": "code",
      "metadata": {
        "id": "sCGhINlA01ki"
      },
      "source": [
        "buy_amazon=True"
      ],
      "execution_count": null,
      "outputs": []
    }
  ]
}